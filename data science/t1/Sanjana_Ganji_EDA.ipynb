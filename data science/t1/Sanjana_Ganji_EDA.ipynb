import pandas as pd
import matplotlib.pyplot as plt
import seaborn as sns
from datetime import datetime

# Load datasets
customers = pd.read_csv("Customers.csv")
products = pd.read_csv("Products.csv")
transactions = pd.read_csv("Transactions.csv")

# Task 1: Data Overview
print("\nCustomers Dataset Info:")
print(customers.info())
print("\nProducts Dataset Info:")
print(products.info())
print("\nTransactions Dataset Info:")
print(transactions.info())

# Check for missing values
print("\nMissing Values in Customers:")
print(customers.isnull().sum())
print("\nMissing Values in Products:")
print(products.isnull().sum())
print("\nMissing Values in Transactions:")
print(transactions.isnull().sum())

# Descriptive statistics
print("\nCustomers Descriptive Stats:")
print(customers.describe(include='all'))
print("\nProducts Descriptive Stats:")
print(products.describe(include='all'))
print("\nTransactions Descriptive Stats:")
print(transactions.describe())

# Task 2: Merge datasets for detailed analysis
merged_data = pd.merge(transactions, customers, on='CustomerID', how='left')
merged_data = pd.merge(merged_data, products, on='ProductID', how='left')

# Convert dates to datetime format
merged_data['TransactionDate'] = pd.to_datetime(merged_data['TransactionDate'])
customers['SignupDate'] = pd.to_datetime(customers['SignupDate'])

# Extract year and month for trend analysis
merged_data['YearMonth'] = merged_data['TransactionDate'].dt.to_period('M')

# Task 3: EDA Visualizations
# 1. Sales trend over time
sales_trend = merged_data.groupby('YearMonth')['TotalValue'].sum()
plt.figure(figsize=(12, 6))
sales_trend.plot()
plt.title('Monthly Sales Trend')
plt.xlabel('Month')
plt.ylabel('Total Revenue')
plt.show()

# 2. Top 5 regions by revenue
region_revenue = merged_data.groupby('Region')['TotalValue'].sum().sort_values(ascending=False)
plt.figure(figsize=(10, 6))
region_revenue.head(5).plot(kind='bar', color='skyblue')
plt.title('Top 5 Regions by Revenue')
plt.xlabel('Region')
plt.ylabel('Total Revenue')
plt.show()

# 3. Most popular product categories
category_sales = merged_data.groupby('Category')['Quantity'].sum().sort_values(ascending=False)
plt.figure(figsize=(10, 6))
category_sales.head(5).plot(kind='bar', color='green')
plt.title('Top 5 Product Categories by Quantity Sold')
plt.xlabel('Category')
plt.ylabel('Quantity Sold')
plt.show()

# 4. High-value customers
customer_revenue = merged_data.groupby('CustomerName')['TotalValue'].sum().sort_values(ascending=False).head(10)
plt.figure(figsize=(12, 6))
customer_revenue.plot(kind='bar', color='orange')
plt.title('Top 10 High-Value Customers')
plt.xlabel('Customer Name')
plt.ylabel('Total Revenue')
plt.show()

# 5. Average transaction value per region
avg_transaction_value = merged_data.groupby('Region')['TotalValue'].mean().sort_values(ascending=False)
plt.figure(figsize=(10, 6))
avg_transaction_value.plot(kind='bar', color='purple')
plt.title('Average Transaction Value by Region')
plt.xlabel('Region')
plt.ylabel('Average Transaction Value')
plt.show()

# Save merged data for further analysis
merged_data.to_csv("Merged_Transactions.csv", index=False)

print("EDA complete. Visualizations generated and merged dataset saved.")
