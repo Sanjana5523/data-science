import pandas as pd
import numpy as np
from sklearn.metrics.pairwise import cosine_similarity
from sklearn.preprocessing import StandardScaler

# Load the customer and product data
customers_df = pd.read_csv('Customers.csv')  # Customer demographic data
transactions_df = pd.read_csv('Transactions.csv')  # Product purchase data

# Clean column names to remove any extra spaces
customers_df.columns = customers_df.columns.str.strip()
transactions_df.columns = transactions_df.columns.str.strip()

# Print the columns to verify names and check for issues
print("Customer Data Columns:", customers_df.columns)
print("Transaction Data Columns:", transactions_df.columns)

# Preprocessing: Clean and extract features
def preprocess_data(customers_df, transactions_df):
    # Verify column names
    # Since 'Age' and 'TotalSpend' are missing, let's use 'Region' and 'SignupDate' as features
    numerical_features = ['Tenure']  # We will calculate tenure based on SignupDate
    
    # Handle missing data
    if 'Region' in customers_df.columns:
        # Convert Region to a categorical feature (one-hot encoding)
        customers_df = pd.get_dummies(customers_df, columns=['Region'], drop_first=True)
    
    # Calculate 'Tenure' from 'SignupDate'
    customers_df['SignupDate'] = pd.to_datetime(customers_df['SignupDate'])
    customers_df['Tenure'] = (pd.to_datetime('today') - customers_df['SignupDate']).dt.days / 365.25  # tenure in years
    
    # Standardize numerical features (e.g., Tenure)
    scaler = StandardScaler()
    customers_df[numerical_features] = scaler.fit_transform(customers_df[numerical_features])
    
    # Create product features (e.g., frequency of purchase per product category)
    product_categories = transactions_df['ProductID'].unique()

    # Create a pivot table with customers as rows and product categories as columns
    product_features = pd.pivot_table(transactions_df, index='CustomerID', columns='ProductID', 
                                     values='Quantity', aggfunc='sum', fill_value=0)

    # Merge the customer demographic data with product features
    customer_product_data = customers_df.merge(product_features, on='CustomerID', how='left')
    
    # Handle missing values by filling them with 0
    customer_product_data = customer_product_data.fillna(0)
    
    return customer_product_data, product_categories

# Calculate customer similarity using both profile and product purchase history
def calculate_similarity(customer_1, customer_2, product_categories):
    # Combine customer profile and product purchase features
    # Ensure the customer features are in the correct shape for concatenation
    features_1 = np.concatenate([customer_1[['Tenure']].values.flatten(), customer_1[product_categories].values.flatten()])
    features_2 = np.concatenate([customer_2[['Tenure']].values.flatten(), customer_2[product_categories].values.flatten()])
    
    return cosine_similarity([features_1], [features_2])[0][0]

# Generate lookalike recommendations for customers
def get_lookalikes(customers_df, product_categories, customer_ids):
    lookalike_map = {}
    
    for customer_id in customer_ids:
        customer = customers_df[customers_df['CustomerID'] == customer_id]
        
        similarities = []
        for other_customer_id in customers_df['CustomerID']:
            if customer_id != other_customer_id:
                other_customer = customers_df[customers_df['CustomerID'] == other_customer_id]
                similarity = calculate_similarity(customer, other_customer, product_categories)
                similarities.append((other_customer_id, similarity))
        
        # Sort the similarities in descending order and pick the top 3
        similarities.sort(key=lambda x: x[1], reverse=True)
        top_3_similar = similarities[:3]
        
        lookalike_map[customer_id] = top_3_similar
    
    return lookalike_map

# Get the lookalikes for customers C0001 to C0020
customer_ids = [f'C{i:04d}' for i in range(1, 21)]
customers_with_product_data, product_categories = preprocess_data(customers_df, transactions_df)

# If there's an issue in preprocessing, don't proceed
if customers_with_product_data is None:
    print("Error in preprocessing. Exiting.")
else:
    lookalike_map = get_lookalikes(customers_with_product_data, product_categories, customer_ids)

    # Save the results to a CSV
    lookalike_data = []
    for customer_id, similar_customers in lookalike_map.items():
        for similar_customer_id, score in similar_customers:
            lookalike_data.append({'CustomerID': customer_id, 'LookalikeCustomerID': similar_customer_id, 'SimilarityScore': score})

    lookalike_df = pd.DataFrame(lookalike_data)
    lookalike_df.to_csv('Lookalike.csv', index=False)

    print("Lookalike recommendations saved to Sanjana_Ganji_Lookalike.csv")
    print(lookalike_df.head())  # Print top results for verification
